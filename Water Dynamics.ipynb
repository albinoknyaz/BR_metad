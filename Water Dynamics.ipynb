{
 "cells": [
  {
   "cell_type": "code",
   "execution_count": 9,
   "metadata": {},
   "outputs": [
    {
     "data": {
      "text/plain": [
       "<MDAnalysis.analysis.align.AlignTraj at 0x7f503d181438>"
      ]
     },
     "execution_count": 9,
     "metadata": {},
     "output_type": "execute_result"
    }
   ],
   "source": [
    "import MDAnalysis\n",
    "import numpy as np\n",
    "import matplotlib.pyplot as plt\n",
    "from MDAnalysis.analysis import align\n",
    "ref = MDAnalysis.Universe('/home/knyazeva/bR/Structures/charmm-gui/gromacs/step7_1.gro')\n",
    "trj = MDAnalysis.Universe('/home/knyazeva/bR/Structures/charmm-gui/gromacs/step7_1.gro',\n",
    "                          '/home/knyazeva/bR/Structures/charmm-gui/gromacs/step7_1.trr')\n",
    "alignment = align.AlignTraj(trj, ref, select=\"protein and name CA\")\n",
    "alignment.run()\n"
   ]
  },
  {
   "cell_type": "code",
   "execution_count": 51,
   "metadata": {},
   "outputs": [
    {
     "data": {
      "text/plain": [
       "<MDAnalysis.analysis.align.AlignTraj at 0x7f503bf84860>"
      ]
     },
     "execution_count": 51,
     "metadata": {},
     "output_type": "execute_result"
    }
   ],
   "source": [
    "#alignment\n",
    "\n",
    "ref_40 = MDAnalysis.Universe('/home/knyazeva/bR/Structures/charmm-gui/gromacs/step8_anneal40.gro')\n",
    "trj_40 = MDAnalysis.Universe('/home/knyazeva/bR/Structures/charmm-gui/gromacs/step7_1.gro',\n",
    "                             '/home/knyazeva/bR/Structures/charmm-gui/gromacs/step8_anneal40.trr')\n",
    "alignment = align.AlignTraj(trj_40, ref_40, select=\"protein and name CA\")\n",
    "alignment.run()\n",
    "\n",
    "ref_50 = MDAnalysis.Universe('/home/knyazeva/bR/Structures/charmm-gui/gromacs/step8_anneal50.gro')\n",
    "trj_50 = MDAnalysis.Universe('/home/knyazeva/bR/Structures/charmm-gui/gromacs/step7_1.gro',\n",
    "                             '/home/knyazeva/bR/Structures/charmm-gui/gromacs/step8_anneal50.trr')\n",
    "alignment = align.AlignTraj(trj_50, ref_50, select=\"protein and name CA\")\n",
    "alignment.run()\n",
    "\n",
    "ref_60 = MDAnalysis.Universe('/home/knyazeva/bR/Structures/charmm-gui/gromacs/step8_anneal60.gro')\n",
    "trj_60 = MDAnalysis.Universe('/home/knyazeva/bR/Structures/charmm-gui/gromacs/step7_1.gro',\n",
    "                             '/home/knyazeva/bR/Structures/charmm-gui/gromacs/step8_anneal60.trr')\n",
    "alignment = align.AlignTraj(trj_60, ref_60, select=\"protein and name CA\")\n",
    "alignment.run()"
   ]
  },
  {
   "cell_type": "code",
   "execution_count": 19,
   "metadata": {},
   "outputs": [],
   "source": [
    "for ts in trj.trajectory:\n",
    "    zch = trj.select_atoms(\"protein and (resid 96 or resid 204 or resid 194)\").positions\n",
    "    C = trj.select_atoms(\"protein\").center_of_geometry()\n",
    "    Zh=max(np.array(zch[0:,2:]))-C-3\n",
    "    Zl=min(np.array(zch[0:,2:]))-C-3\n",
    "\n",
    "zh=np.average(Zh)\n",
    "zl=np.average(Zl)\n",
    "water=trj.select_atoms(\"protein or (resname TIP3 and cyzone 11.0 %f %f protein)\"%(zh,zl))\n",
    "water.write(\"water.gro\")\n"
   ]
  },
  {
   "cell_type": "code",
   "execution_count": 52,
   "metadata": {},
   "outputs": [
    {
     "name": "stderr",
     "output_type": "stream",
     "text": [
      "Step  2001/2001 [100.0%]\n"
     ]
    },
    {
     "name": "stdout",
     "output_type": "stream",
     "text": [
      "0 5.317154778613408\n",
      "1 8.025659922618612\n",
      "2 10.275088496066047\n",
      "3 11.800642436938938\n",
      "4 11.648547367551508\n",
      "5 15.752628710005354\n",
      "6 17.7248801158387\n",
      "7 15.0872605220453\n",
      "8 16.322740056463335\n",
      "9 16.314349957099306\n",
      "10 19.36642550378955\n",
      "11 17.604684238114935\n",
      "12 19.36531952375554\n",
      "13 28.957208914229895\n",
      "14 27.310748942309903\n",
      "15 25.0504074524833\n",
      "16 28.983814346376395\n",
      "17 26.475692454878335\n",
      "18 26.906881470126763\n",
      "19 25.48806579805384\n"
     ]
    }
   ],
   "source": [
    "from MDAnalysis.analysis.waterdynamics import MeanSquareDisplacement as MSD\n",
    "\n",
    "for ts in trj.trajectory:\n",
    "    zch = trj.select_atoms(\"protein and (resid 96 or resid 204 or resid 194)\").positions\n",
    "    C = trj.select_atoms(\"protein\").center_of_geometry()\n",
    "    Zh=max(np.array(zch[0:,2:]))-C-3\n",
    "    Zl=min(np.array(zch[0:,2:]))-C-3\n",
    "\n",
    "zh=np.average(Zh)\n",
    "zl=np.average(Zl)\n",
    "\n",
    "selection = \"resname TIP3 and cyzone 11.0 %f %f protein\"%(zh,zl)\n",
    "MSD_analysis = MSD(trj, selection, 0, 100, 20)\n",
    "MSD_analysis.run()\n",
    "#now we print data ready to graph. The graph\n",
    "#represents MSD vs t\n",
    "time = 0\n",
    "for msd in MSD_analysis.timeseries:\n",
    "      print(\"{time} {msd}\".format(time=time, msd=msd))\n",
    "      time += 1"
   ]
  },
  {
   "cell_type": "code",
   "execution_count": 53,
   "metadata": {},
   "outputs": [
    {
     "name": "stderr",
     "output_type": "stream",
     "text": [
      "Step  2001/2001 [100.0%]\n"
     ]
    },
    {
     "name": "stdout",
     "output_type": "stream",
     "text": [
      "0 5.502135038235087\n",
      "1 8.334754844451991\n",
      "2 10.09169088377052\n",
      "3 11.91412524903589\n",
      "4 13.041408480346451\n",
      "5 13.204210815391724\n",
      "6 16.16292941611359\n",
      "7 14.28528976852284\n",
      "8 14.821257552371225\n",
      "9 17.36435962921739\n",
      "10 17.5422830321996\n",
      "11 15.750821918281181\n",
      "12 15.313370081782343\n",
      "13 19.98116404413503\n",
      "14 13.103870319234474\n",
      "15 15.6280921970985\n",
      "16 16.310993922573914\n",
      "17 16.930552010165734\n",
      "18 14.295022809229392\n",
      "19 16.274889239077904\n"
     ]
    }
   ],
   "source": [
    "for ts in trj_40.trajectory:\n",
    "    zch = trj_40.select_atoms(\"protein and (resid 96 or resid 204 or resid 194)\").positions\n",
    "    C = trj_40.select_atoms(\"protein\").center_of_geometry()\n",
    "    Zh=max(np.array(zch[0:,2:]))-C-3\n",
    "    Zl=min(np.array(zch[0:,2:]))-C-3\n",
    "\n",
    "zh=np.average(Zh)\n",
    "zl=np.average(Zl)\n",
    "\n",
    "selection = \"resname TIP3 and cyzone 11.0 %f %f protein\"%(zh,zl)\n",
    "MSD_analysis_40 = MSD(trj_40, selection, 0, 100, 20)\n",
    "MSD_analysis_40.run()\n",
    "time = 0\n",
    "for msd in MSD_analysis_40.timeseries:\n",
    "      print(\"{time} {msd}\".format(time=time, msd=msd))\n",
    "      time += 1"
   ]
  },
  {
   "cell_type": "code",
   "execution_count": 54,
   "metadata": {},
   "outputs": [
    {
     "name": "stderr",
     "output_type": "stream",
     "text": [
      "Step  2001/2001 [100.0%]\n"
     ]
    },
    {
     "name": "stdout",
     "output_type": "stream",
     "text": [
      "0 5.079713387178595\n",
      "1 7.641810497402032\n",
      "2 8.234219275307195\n",
      "3 9.223348694736043\n",
      "4 11.639200053684993\n",
      "5 11.529511362721221\n",
      "6 11.09598311902898\n",
      "7 10.451240214202143\n",
      "8 14.181834096485526\n",
      "9 15.417244846035349\n",
      "10 15.694758122593415\n",
      "11 16.617661911602926\n",
      "12 14.700868485503127\n",
      "13 11.705232724763897\n",
      "14 18.558998234535093\n",
      "15 11.860479391693296\n",
      "16 17.246529374863854\n",
      "17 15.354996509154091\n",
      "18 14.97646707294154\n",
      "19 17.88466467687617\n"
     ]
    }
   ],
   "source": [
    "for ts in trj_50.trajectory:\n",
    "    zch = trj_50.select_atoms(\"protein and (resid 96 or resid 204 or resid 194)\").positions\n",
    "    C = trj_50.select_atoms(\"protein\").center_of_geometry()\n",
    "    Zh=max(np.array(zch[0:,2:]))-C-3\n",
    "    Zl=min(np.array(zch[0:,2:]))-C-3\n",
    "\n",
    "zh=np.average(Zh)\n",
    "zl=np.average(Zl)\n",
    "\n",
    "selection = \"resname TIP3 and cyzone 11.0 %f %f protein\"%(zh,zl)\n",
    "MSD_analysis_50 = MSD(trj_50, selection, 0, 100, 20)\n",
    "MSD_analysis_50.run()\n",
    "time = 0\n",
    "for msd in MSD_analysis_50.timeseries:\n",
    "      print(\"{time} {msd}\".format(time=time, msd=msd))\n",
    "      time += 1"
   ]
  },
  {
   "cell_type": "code",
   "execution_count": 55,
   "metadata": {},
   "outputs": [
    {
     "name": "stderr",
     "output_type": "stream",
     "text": [
      "Step  2001/2001 [100.0%]\n"
     ]
    },
    {
     "name": "stdout",
     "output_type": "stream",
     "text": [
      "0 3.711620789260939\n",
      "1 4.779327555021486\n",
      "2 6.212372873404565\n",
      "3 7.656724037334967\n",
      "4 7.427813138723904\n",
      "5 8.119592838159038\n",
      "6 10.966257821594342\n",
      "7 9.550089409277122\n",
      "8 12.672098486497248\n",
      "9 12.514268915700976\n",
      "10 10.787204913769594\n",
      "11 16.240054468206342\n",
      "12 16.182360756103204\n",
      "13 17.192303835034924\n",
      "14 13.064104318158192\n",
      "15 12.606516525745391\n",
      "16 13.445972682809401\n",
      "17 10.481453658108201\n",
      "18 12.937181087210774\n",
      "19 15.821209492782751\n"
     ]
    }
   ],
   "source": [
    "for ts in trj_60.trajectory:\n",
    "    zch = trj_60.select_atoms(\"protein and (resid 96 or resid 204 or resid 194)\").positions\n",
    "    C = trj_60.select_atoms(\"protein\").center_of_geometry()\n",
    "    Zh=max(np.array(zch[0:,2:]))-C-3\n",
    "    Zl=min(np.array(zch[0:,2:]))-C-3\n",
    "\n",
    "zh=np.average(Zh)\n",
    "zl=np.average(Zl)\n",
    "\n",
    "selection = \"resname TIP3 and cyzone 11.0 %f %f protein\"%(zh,zl)\n",
    "MSD_analysis_60 = MSD(trj_60, selection, 0, 100, 20)\n",
    "MSD_analysis_60.run()\n",
    "time = 0\n",
    "for msd in MSD_analysis_60.timeseries:\n",
    "      print(\"{time} {msd}\".format(time=time, msd=msd))\n",
    "      time += 1"
   ]
  },
  {
   "cell_type": "code",
   "execution_count": 56,
   "metadata": {},
   "outputs": [
    {
     "data": {
      "image/png": "[encoded data removed]",
      "text/plain": [
       "<Figure size 432x288 with 1 Axes>"
      ]
     },
     "metadata": {},
     "output_type": "display_data"
    },
    {
     "data": {
      "text/plain": [
       "<Figure size 432x288 with 0 Axes>"
      ]
     },
     "metadata": {},
     "output_type": "display_data"
    }
   ],
   "source": [
    "#Plot\n",
    "plt.xlabel('time')\n",
    "plt.ylabel('MSD')\n",
    "plt.title('MSD')\n",
    "plt.plot(range(0,time),MSD_analysis.timeseries, 'k')\n",
    "plt.plot(range(0,time),MSD_analysis_40.timeseries, 'b')\n",
    "plt.plot(range(0,time),MSD_analysis_50.timeseries, 'r')\n",
    "plt.plot(range(0,time),MSD_analysis_60.timeseries, 'y')\n",
    "plt.show()\n",
    "plt.savefig(\"MSD.pdf\")"
   ]
  },
  {
   "cell_type": "code",
   "execution_count": null,
   "metadata": {},
   "outputs": [],
   "source": [
    "from MDAnalysis.analysis.waterdynamics import SurvivalProbability as SP\n",
    "\n",
    "selection = \" resname TIP3 and sphzone 5 (resid 96 or resid 216 or resid 85 or resid 82 or resid 204 or resid 194) \"\n",
    "SP_analysis = SP(trj, selection, 0, 2000, 20)\n",
    "SP_analysis.run()\n",
    "#now we print data ready to graph. The graph\n",
    "#represents SP vs t\n",
    "time = 0\n",
    "for sp in SP_analysis.timeseries:\n",
    "      print(\"{time} {sp}\".format(time=time, sp=sp))\n",
    "      time += 1\n",
    "\n",
    "#Plot\n",
    "plt.xlabel('time')\n",
    "plt.ylabel('SP')\n",
    "plt.title('Survival Probability')\n",
    "plt.plot(range(0,time),MSD_analysis.timeseries)\n",
    "plt.show()"
   ]
  },
  {
   "cell_type": "code",
   "execution_count": null,
   "metadata": {},
   "outputs": [],
   "source": []
  }
 ],
 "metadata": {
  "kernelspec": {
   "display_name": "Python 3",
   "language": "python",
   "name": "python3"
  },
  "language_info": {
   "codemirror_mode": {
    "name": "ipython",
    "version": 3
   },
   "file_extension": ".py",
   "mimetype": "text/x-python",
   "name": "python",
   "nbconvert_exporter": "python",
   "pygments_lexer": "ipython3",
   "version": "3.6.4"
  }
 },
 "nbformat": 4,
 "nbformat_minor": 2
}
