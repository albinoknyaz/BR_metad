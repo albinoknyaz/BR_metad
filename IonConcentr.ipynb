{
 "cells": [
  {
   "cell_type": "code",
   "execution_count": null,
   "metadata": {},
   "outputs": [],
   "source": [
    "import MDAnalysis\n",
    "import numpy as np\n",
    "import matplotlib.pyplot as plt\n",
    "trj = MDAnalysis.Universe('', \n",
    "                        '')\n"
   ]
  },
  {
   "cell_type": "code",
   "execution_count": null,
   "metadata": {},
   "outputs": [],
   "source": [
    "x=\n",
    "y=\n",
    "z=\n",
    "center=\n",
    "selection_string=\"(resname CL and point %f %f %f  %f)\"%(x,y,z,center)\n",
    "ions=np.array[]\n",
    "for ts in trj.trajectory:\n",
    "    ions_in_box=u.select_atom(selection_string)\n",
    "    ions.append(trj.trajectory.time, len(ions_in_box))\n",
    "\n",
    "plt.plot(ions[0], ions[1])\n",
    "plt.xlabel('time (ps)')\n",
    "plt.ylabel('number of ions')\n",
    "print(np.mean(ions[1]), var(ions[1]))"
   ]
  }
 ],
 "metadata": {
  "kernelspec": {
   "display_name": "Python 3",
   "language": "python",
   "name": "python3"
  },
  "language_info": {
   "codemirror_mode": {
    "name": "ipython",
    "version": 3
   },
   "file_extension": ".py",
   "mimetype": "text/x-python",
   "name": "python",
   "nbconvert_exporter": "python",
   "pygments_lexer": "ipython3",
   "version": "3.6.4"
  }
 },
 "nbformat": 4,
 "nbformat_minor": 2
}
